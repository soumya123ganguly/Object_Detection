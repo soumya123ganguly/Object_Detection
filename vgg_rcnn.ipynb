{
  "cells": [
    {
      "cell_type": "code",
      "execution_count": null,
      "metadata": {
        "id": "ucV-qovOCamI"
      },
      "outputs": [],
      "source": [
        "!pip install albumentations==1.2.1"
      ]
    },
    {
      "cell_type": "code",
      "execution_count": 2,
      "metadata": {
        "id": "cNByLyBzCkih"
      },
      "outputs": [],
      "source": [
        "import os\n",
        "import collections\n",
        "import pandas as pd\n",
        "import numpy as np\n",
        "import functools\n",
        "import matplotlib.pyplot as plt\n",
        "import cv2\n",
        "\n",
        "from sklearn import preprocessing\n",
        "\n",
        "\n",
        "import xml.etree.ElementTree as ET\n",
        "\n",
        "import albumentations as A\n",
        "from albumentations.augmentations.geometric.resize import Resize\n",
        "from albumentations.pytorch.transforms import ToTensorV2\n",
        "\n",
        "import torch\n",
        "import torchvision\n",
        "\n",
        "from torchvision.models.detection.faster_rcnn import FastRCNNPredictor\n",
        "from torchvision.models.detection import FasterRCNN\n",
        "from torchvision.models.detection.rpn import AnchorGenerator\n",
        "\n",
        "from torch.utils.data import DataLoader, Dataset\n",
        "from torch.utils.data import SequentialSampler"
      ]
    },
    {
      "cell_type": "code",
      "execution_count": null,
      "metadata": {
        "id": "SPKiP8HdClca"
      },
      "outputs": [],
      "source": [
        "train_dataset =torchvision.datasets.VOCDetection(root='./data',year='2007',download=True,image_set='train')\n",
        "val_dataset = torchvision.datasets.VOCDetection(root='./data',year='2007',download=True,image_set='val')\n",
        "test_dataset = torchvision.datasets.VOCDetection(root='./data',year='2007',download=True,image_set='test')"
      ]
    },
    {
      "cell_type": "code",
      "execution_count": 4,
      "metadata": {
        "id": "mHYQ1y4dCoGa"
      },
      "outputs": [],
      "source": [
        "BASE_PATH = \"./data/VOCdevkit/VOC2007\"\n",
        "XML_PATH = os.path.join(BASE_PATH, \"Annotations\")\n",
        "IMG_PATH = os.path.join(BASE_PATH, \"JPEGImages\")\n",
        "XML_FILES = [os.path.join(XML_PATH, f) for f in os.listdir(XML_PATH)]"
      ]
    },
    {
      "cell_type": "code",
      "execution_count": 5,
      "metadata": {
        "id": "K3OhEBzBC7PE"
      },
      "outputs": [],
      "source": [
        "class XmlParser(object):\n",
        "\n",
        "    def __init__(self,xml_file):\n",
        "\n",
        "        self.xml_file = xml_file\n",
        "        self._root = ET.parse(self.xml_file).getroot()\n",
        "        self._objects = self._root.findall(\"object\")\n",
        "        # path to the image file as describe in the xml file\n",
        "        self.img_path = os.path.join(IMG_PATH, self._root.find('filename').text)\n",
        "        # image id\n",
        "        self.image_id = self._root.find(\"filename\").text\n",
        "        # names of the classes contained in the xml file\n",
        "        self.names = self._get_names()\n",
        "        # coordinates of the bounding boxes\n",
        "        self.boxes = self._get_bndbox()\n",
        "\n",
        "    def parse_xml(self):\n",
        "        \"\"\"\"Parse the xml file returning the root.\"\"\"\n",
        "\n",
        "        tree = ET.parse(self.xml_file)\n",
        "        return tree.getroot()\n",
        "\n",
        "    def _get_names(self):\n",
        "\n",
        "        names = []\n",
        "        for obj in self._objects:\n",
        "            name = obj.find(\"name\")\n",
        "            names.append(name.text)\n",
        "\n",
        "        return np.array(names)\n",
        "\n",
        "    def _get_bndbox(self):\n",
        "\n",
        "        boxes = []\n",
        "        for obj in self._objects:\n",
        "            coordinates = []\n",
        "            bndbox = obj.find(\"bndbox\")\n",
        "            coordinates.append(np.int32(bndbox.find(\"xmin\").text))\n",
        "            coordinates.append(np.int32(np.float32(bndbox.find(\"ymin\").text)))\n",
        "            coordinates.append(np.int32(bndbox.find(\"xmax\").text))\n",
        "            coordinates.append(np.int32(bndbox.find(\"ymax\").text))\n",
        "            boxes.append(coordinates)\n",
        "\n",
        "        return np.array(boxes)"
      ]
    },
    {
      "cell_type": "code",
      "execution_count": null,
      "metadata": {
        "id": "d17uOfTtC-SR"
      },
      "outputs": [],
      "source": [
        "def xml_files_to_df(xml_files):\n",
        "\n",
        "    \"\"\"\"Return pandas dataframe from list of XML files.\"\"\"\n",
        "\n",
        "    names = []\n",
        "    boxes = []\n",
        "    image_id = []\n",
        "    xml_path = []\n",
        "    img_path = []\n",
        "    for file in xml_files:\n",
        "        xml = XmlParser(file)\n",
        "        names.extend(xml.names)\n",
        "        boxes.extend(xml.boxes)\n",
        "        image_id.extend([xml.image_id] * len(xml.names))\n",
        "        xml_path.extend([xml.xml_file] * len(xml.names))\n",
        "        img_path.extend([xml.img_path] * len(xml.names))\n",
        "    a = {\"image_id\": image_id,\n",
        "         \"names\": names,\n",
        "         \"boxes\": boxes,\n",
        "         \"xml_path\":xml_path,\n",
        "         \"img_path\":img_path}\n",
        "\n",
        "    df = pd.DataFrame.from_dict(a, orient='index')\n",
        "    df = df.transpose()\n",
        "\n",
        "    return df\n",
        "\n",
        "df = xml_files_to_df(XML_FILES)\n",
        "df.head()"
      ]
    },
    {
      "cell_type": "code",
      "execution_count": null,
      "metadata": {
        "id": "3PpxugXjDGmZ"
      },
      "outputs": [],
      "source": [
        "df['names'].value_counts()"
      ]
    },
    {
      "cell_type": "code",
      "execution_count": null,
      "metadata": {
        "id": "lYq0IGmMDKL7"
      },
      "outputs": [],
      "source": [
        "df['img_id'] = df['image_id'].apply(lambda x:x.split('.')).map(lambda x:x[0])\n",
        "df.drop(columns=['image_id'], inplace=True)\n",
        "df.head()"
      ]
    },
    {
      "cell_type": "code",
      "execution_count": null,
      "metadata": {
        "id": "o60T-bA8DMO_"
      },
      "outputs": [],
      "source": [
        "enc = preprocessing.LabelEncoder()\n",
        "df['labels'] = enc.fit_transform(df['names'])\n",
        "df['labels'] = np.stack(df['labels'][i]+1 for i in range(len(df['labels'])))"
      ]
    },
    {
      "cell_type": "code",
      "execution_count": null,
      "metadata": {
        "id": "bThv0U1JDO3e"
      },
      "outputs": [],
      "source": [
        "classes = df[['names','labels']].value_counts()\n",
        "classes"
      ]
    },
    {
      "cell_type": "code",
      "execution_count": 11,
      "metadata": {
        "id": "lXtAz4AyDS0a"
      },
      "outputs": [],
      "source": [
        "classes= {1:'aeroplane',2:'bicycle',3:'bird',4:'boat',5:'bottle',6:'bus',7:'car',8:'cat',9:'chair',10:'cow',11:'diningtable',12:'dog',13:'horse',14:'motorbike',15:'person',16:'pottedplant',17:'sheep',18:'sofa',19:'train',20:'tvmonitor'}"
      ]
    },
    {
      "cell_type": "code",
      "execution_count": null,
      "metadata": {
        "id": "uQiEQeG_DVSm"
      },
      "outputs": [],
      "source": [
        "df['xmin'] = -1\n",
        "df['ymin'] = -1\n",
        "df['xmax'] = -1\n",
        "df['ymax'] = -1\n",
        "\n",
        "df[['xmin','ymin','xmax','ymax']]=np.stack(df['boxes'][i] for i in range(len(df['boxes'])))\n",
        "\n",
        "df.drop(columns=['boxes'], inplace=True)\n",
        "df['xmin'] = df['xmin'].astype(np.float)\n",
        "df['ymin'] = df['ymin'].astype(np.float)\n",
        "df['xmax'] = df['xmax'].astype(np.float)\n",
        "df['ymax'] = df['ymax'].astype(np.float)"
      ]
    },
    {
      "cell_type": "code",
      "execution_count": null,
      "metadata": {
        "id": "rOaeWb_yDXOw"
      },
      "outputs": [],
      "source": [
        "df.drop(columns=['names'], inplace=True)\n",
        "df.head()"
      ]
    },
    {
      "cell_type": "code",
      "execution_count": null,
      "metadata": {
        "id": "YR_2lbrxDZ9X"
      },
      "outputs": [],
      "source": [
        "len(df['img_id'].unique())"
      ]
    },
    {
      "cell_type": "code",
      "execution_count": null,
      "metadata": {
        "id": "O0okwhVIDc3X"
      },
      "outputs": [],
      "source": [
        "image_ids = df['img_id'].unique()\n",
        "valid_ids = image_ids[-4000:]\n",
        "train_ids = image_ids[:-4000]\n",
        "len(train_ids)"
      ]
    },
    {
      "cell_type": "code",
      "execution_count": null,
      "metadata": {
        "id": "Pz_hWLq8DeZ5"
      },
      "outputs": [],
      "source": [
        "valid_df = df[df['img_id'].isin(valid_ids)]\n",
        "train_df = df[df['img_id'].isin(train_ids)]\n",
        "valid_df.shape, train_df.shape"
      ]
    },
    {
      "cell_type": "code",
      "execution_count": 17,
      "metadata": {
        "id": "JG7LYsuiDf8g"
      },
      "outputs": [],
      "source": [
        "class VOCDataset(Dataset):\n",
        "\n",
        "    def __init__(self, dataframe, image_dir, transforms=None):\n",
        "        super().__init__()\n",
        "\n",
        "        self.image_ids = dataframe['img_id'].unique()\n",
        "        self.df = dataframe\n",
        "        self.image_dir = image_dir\n",
        "        self.transforms = transforms\n",
        "\n",
        "    def __getitem__(self, index: int):\n",
        "        image_id = self.image_ids[index]\n",
        "        records = self.df[self.df['img_id'] == image_id]\n",
        "\n",
        "        image = cv2.imread(f'{self.image_dir}/{image_id}.jpg', cv2.IMREAD_COLOR)\n",
        "        image = cv2.cvtColor(image, cv2.COLOR_BGR2RGB).astype(np.float32)\n",
        "        image /= 255.0\n",
        "        rows, cols = image.shape[:2]\n",
        "\n",
        "        boxes = records[['xmin', 'ymin', 'xmax', 'ymax']].values\n",
        "\n",
        "\n",
        "        area = (boxes[:, 3] - boxes[:, 1]) * (boxes[:, 2] - boxes[:, 0])\n",
        "        area = torch.as_tensor(area, dtype=torch.float32)\n",
        "\n",
        "        label = records['labels'].values\n",
        "        labels = torch.as_tensor(label, dtype=torch.int64)\n",
        "\n",
        "        # suppose all instances are not crowd\n",
        "        iscrowd = torch.zeros((records.shape[0],), dtype=torch.int64)\n",
        "\n",
        "        target = {}\n",
        "        target['boxes'] = boxes\n",
        "        target['labels'] = labels\n",
        "        # target['masks'] = None\n",
        "        target['image_id'] = torch.tensor([index])\n",
        "        target['area'] = area\n",
        "        target['iscrowd'] = iscrowd\n",
        "\n",
        "        if self.transforms:\n",
        "            sample = {\n",
        "                'image': image,\n",
        "                'bboxes': target['boxes'],\n",
        "                'labels': labels\n",
        "            }\n",
        "            sample = self.transforms(**sample)\n",
        "            image = sample['image']\n",
        "\n",
        "            target['boxes'] = torch.stack(tuple(map(torch.tensor, zip(*sample['bboxes'])))).permute(1,0)\n",
        "\n",
        "            return image, target\n",
        "\n",
        "    def __len__(self) -> int:\n",
        "        return self.image_ids.shape[0]"
      ]
    },
    {
      "cell_type": "code",
      "execution_count": 18,
      "metadata": {
        "id": "F-bPtW8QDibX"
      },
      "outputs": [],
      "source": [
        "def get_transform_train():\n",
        "    return A.Compose([\n",
        "        A.HorizontalFlip(p=0.5),\n",
        "        A.RandomBrightnessContrast(p=0.2),\n",
        "        ToTensorV2(p=1.0)\n",
        "    ], bbox_params={'format':'pascal_voc', 'label_fields': ['labels']})\n",
        "\n",
        "def get_transform_valid():\n",
        "    return A.Compose([\n",
        "        ToTensorV2(p=1.0)\n",
        "    ], bbox_params={'format': 'pascal_voc', 'label_fields':['labels']})"
      ]
    },
    {
      "cell_type": "code",
      "execution_count": null,
      "metadata": {
        "id": "eUed0p91Dk2w"
      },
      "outputs": [],
      "source": [
        "def collate_fn(batch):\n",
        "    return tuple(zip(*batch))\n",
        "\n",
        "train_dataset = VOCDataset(train_df, IMG_PATH , get_transform_train())\n",
        "valid_dataset = VOCDataset(valid_df, IMG_PATH, get_transform_valid())\n",
        "\n",
        "\n",
        "# split the dataset in train and test set\n",
        "indices = torch.randperm(len(train_dataset)).tolist()\n",
        "\n",
        "\n",
        "train_data_loader = DataLoader(\n",
        "    train_dataset,\n",
        "    batch_size=4,\n",
        "    shuffle=True,\n",
        "    num_workers=4,\n",
        "    collate_fn=collate_fn\n",
        ")\n",
        "\n",
        "valid_data_loader = DataLoader(\n",
        "    valid_dataset,\n",
        "    batch_size=4,\n",
        "    shuffle=False,\n",
        "    num_workers=4,\n",
        "    collate_fn=collate_fn\n",
        ")"
      ]
    },
    {
      "cell_type": "code",
      "execution_count": 20,
      "metadata": {
        "id": "roG0zuFLDmoH"
      },
      "outputs": [],
      "source": [
        "device = torch.device(\"cuda\" if torch.cuda.is_available() else \"cpu\")"
      ]
    },
    {
      "cell_type": "code",
      "execution_count": null,
      "metadata": {
        "id": "FuAKaBnrDqFd"
      },
      "outputs": [],
      "source": [
        "images, targets= next(iter(train_data_loader))\n",
        "images = list(image.to(device) for image in images)\n",
        "targets = [{k: v.to(device) for k, v in t.items()} for t in targets]\n",
        "\n",
        "plt.figure(figsize=(20,20))\n",
        "for i, (image, target) in enumerate(zip(images, targets)):\n",
        "    plt.subplot(2,2, i+1)\n",
        "    boxes = targets[i]['boxes'].cpu().numpy().astype(np.int32)\n",
        "    sample = images[i].permute(1,2,0).cpu().numpy()\n",
        "    names = targets[i]['labels'].cpu().numpy().astype(np.int64)\n",
        "    for i,box in enumerate(boxes):\n",
        "        cv2.rectangle(sample,\n",
        "                      (box[0], box[1]),\n",
        "                      (box[2], box[3]),\n",
        "                      (0, 0, 220), 2)\n",
        "        cv2.putText(sample, classes[names[i]], (box[0],box[1]+15),cv2.FONT_HERSHEY_COMPLEX ,0.5,(0,220,0),1,cv2.LINE_AA)\n",
        "\n",
        "    plt.axis('off')\n",
        "    plt.imshow(sample)"
      ]
    },
    {
      "cell_type": "code",
      "execution_count": null,
      "metadata": {
        "id": "OlvknFRADv11"
      },
      "outputs": [],
      "source": [
        "import torchvision\n",
        "from torch import nn\n",
        "from torchvision.models.detection import MaskRCNN\n",
        "from torchvision.models.detection.backbone_utils import BackboneWithFPN\n",
        "\n",
        "class VGGBackbone(nn.Module):\n",
        "    def __init__(self):\n",
        "        super().__init__()\n",
        "        model = torchvision.models.vgg16(pretrained=False)\n",
        "        self.layer1 = nn.Sequential(model.features[0],\n",
        "                                    model.features[1],\n",
        "                                    model.features[2],\n",
        "                                    model.features[3],\n",
        "                                    model.features[4])\n",
        "        self.layer2 = nn.Sequential(model.features[5],\n",
        "                                    model.features[6],\n",
        "                                    model.features[7],\n",
        "                                    model.features[8],\n",
        "                                    model.features[9])\n",
        "        self.layer3 = nn.Sequential(model.features[10],\n",
        "                                    model.features[11],\n",
        "                                    model.features[12],\n",
        "                                    model.features[13],\n",
        "                                    model.features[14],\n",
        "                                    model.features[15],\n",
        "                                    model.features[16])\n",
        "        self.layer4 = nn.Sequential(model.features[17],\n",
        "                                    model.features[18],\n",
        "                                    model.features[19],\n",
        "                                    model.features[20],\n",
        "                                    model.features[21],\n",
        "                                    model.features[22],\n",
        "                                    model.features[23])\n",
        "        self.layer5 = nn.Sequential(model.features[24],\n",
        "                                    model.features[25],\n",
        "                                    model.features[26],\n",
        "                                    model.features[27],\n",
        "                                    model.features[28],\n",
        "                                    model.features[29],\n",
        "                                    model.features[30])\n",
        "    def forward(self,x):\n",
        "        x = self.layer1(x)\n",
        "        print(x.shape)\n",
        "        x = self.layer2(x)\n",
        "        print(x.shape)\n",
        "        x = self.layer3(x)\n",
        "        print(x.shape)\n",
        "        x = self.layer4(x)\n",
        "        print(x.shape)\n",
        "        x = self.layer5(x)\n",
        "        print(x.shape)\n",
        "        return x\n",
        "\n",
        "\n",
        "vggb = VGGBackbone()\n",
        "# print(vggbackbone)\n",
        "\n",
        "in_channels_list = [128, 256, 512, 512]\n",
        "return_layers = {'layer2': '0', 'layer3': '1', 'layer4': '2', 'layer5': '3'}\n",
        "\n",
        "out_channels = 256\n",
        "\n",
        "backbone = BackboneWithFPN(vggb, return_layers, in_channels_list, out_channels)\n",
        "\n",
        "# Final Faster RCNN model.\n",
        "model = FasterRCNN(\n",
        "    backbone=backbone,\n",
        "    num_classes=21\n",
        ")\n",
        "\n",
        "img = torch.randn((1,3,256,256))\n",
        "print(vggb(img).shape)\n",
        "model.eval()\n",
        "out = model(img)\n",
        "print(out)"
      ]
    },
    {
      "cell_type": "code",
      "execution_count": null,
      "metadata": {
        "id": "9r5rvCn8HPS1"
      },
      "outputs": [],
      "source": [
        "optimizer = torch.optim.SGD(model.parameters(), lr=0.005, weight_decay=0.0005)\n",
        "lr_scheduler = torch.optim.lr_scheduler.StepLR(optimizer, step_size=5, gamma=0.1)\n",
        "\n",
        "device = torch.device(\"cuda\" if torch.cuda.is_available() else \"cpu\")\n",
        "model.to(device)\n"
      ]
    },
    {
      "cell_type": "code",
      "execution_count": null,
      "metadata": {
        "id": "3p0Su3XSH8Dv"
      },
      "outputs": [],
      "source": [
        "!pip install -U 'git+https://github.com/cocodataset/cocoapi.git#subdirectory=PythonAPI'\n",
        "!git clone https://github.com/pytorch/vision.git\n",
        "!cd vision;cp references/detection/utils.py ../;cp references/detection/transforms.py ../;cp references/detection/coco_eval.py ../;cp references/detection/engine.py ../;cp references/detection/coco_utils.py ../\n",
        "\n",
        "\n",
        "from engine import train_one_epoch, evaluate\n",
        "import utils\n"
      ]
    },
    {
      "cell_type": "code",
      "execution_count": null,
      "metadata": {
        "id": "udZhdTPZHHQm"
      },
      "outputs": [],
      "source": [
        "num_epochs = 21\n",
        "\n",
        "for epoch in range(num_epochs):\n",
        "    # train for one epoch, printing every 10 iterations\n",
        "    train_one_epoch(model, optimizer, train_data_loader, device, epoch, print_freq=10)\n",
        "    # update the learning rate\n",
        "    lr_scheduler.step()\n",
        "    # evaluate on the test dataset\n",
        "    evaluate(model, valid_data_loader, device=device)"
      ]
    },
    {
      "cell_type": "code",
      "execution_count": null,
      "metadata": {
        "id": "8ZsjLEnwJ46u"
      },
      "outputs": [],
      "source": []
    }
  ],
  "metadata": {
    "accelerator": "GPU",
    "colab": {
      "provenance": []
    },
    "gpuClass": "standard",
    "kernelspec": {
      "display_name": "Python 3",
      "language": "python",
      "name": "python3"
    },
    "language_info": {
      "codemirror_mode": {
        "name": "ipython",
        "version": 3
      },
      "file_extension": ".py",
      "mimetype": "text/x-python",
      "name": "python",
      "nbconvert_exporter": "python",
      "pygments_lexer": "ipython3",
      "version": "3.8.3"
    }
  },
  "nbformat": 4,
  "nbformat_minor": 0
}